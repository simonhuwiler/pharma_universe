{
 "cells": [
  {
   "cell_type": "markdown",
   "metadata": {},
   "source": [
    "# Export universe\n",
    "* Export from Database\n",
    "* Calculate x, y and z position"
   ]
  },
  {
   "cell_type": "code",
   "execution_count": 1,
   "metadata": {},
   "outputs": [],
   "source": [
    "import pandas as pd\n",
    "import mysql.connector\n",
    "from pathlib import Path\n",
    "import math\n",
    "import random\n",
    "import json"
   ]
  },
  {
   "cell_type": "markdown",
   "metadata": {},
   "source": [
    "## Define the Unvierse"
   ]
  },
  {
   "cell_type": "code",
   "execution_count": 12,
   "metadata": {},
   "outputs": [],
   "source": [
    "universe_r = 1050000000\n",
    "#universe_r = 10000\n",
    "universe_circles = 12"
   ]
  },
  {
   "cell_type": "markdown",
   "metadata": {},
   "source": [
    "## Connect to Database"
   ]
  },
  {
   "cell_type": "code",
   "execution_count": 13,
   "metadata": {},
   "outputs": [],
   "source": [
    "db_connection = mysql.connector.connect(\n",
    "    host=\"localhost\",\n",
    "    user=\"root\",\n",
    "    passwd=\"\",\n",
    "    database = \"pharmagelder\"\n",
    ")"
   ]
  },
  {
   "cell_type": "markdown",
   "metadata": {},
   "source": [
    "## Download Planets"
   ]
  },
  {
   "cell_type": "code",
   "execution_count": 14,
   "metadata": {},
   "outputs": [],
   "source": [
    "df_planets = pd.read_sql(\"\"\"\n",
    "    SELECT\n",
    "      pha_id,\n",
    "      pha_name,\n",
    "      sum(value) as value\n",
    "    FROM view_transaction_union\n",
    "    LEFT JOIN pharma ON fk_pharma = pha_id\n",
    "    GROUP BY fk_pharma;\n",
    "\"\"\", con=db_connection)"
   ]
  },
  {
   "cell_type": "code",
   "execution_count": 15,
   "metadata": {},
   "outputs": [],
   "source": [
    "df_planets['value'] = round(df_planets['value'])"
   ]
  },
  {
   "cell_type": "code",
   "execution_count": 16,
   "metadata": {},
   "outputs": [
    {
     "data": {
      "text/plain": [
       "68"
      ]
     },
     "execution_count": 16,
     "metadata": {},
     "output_type": "execute_result"
    }
   ],
   "source": [
    "len(df_planets)"
   ]
  },
  {
   "cell_type": "code",
   "execution_count": 17,
   "metadata": {},
   "outputs": [
    {
     "data": {
      "text/plain": [
       "<AxesSubplot:>"
      ]
     },
     "execution_count": 17,
     "metadata": {},
     "output_type": "execute_result"
    },
    {
     "data": {
      "image/png": "[encoded data removed]",
      "text/plain": [
       "<Figure size 432x288 with 1 Axes>"
      ]
     },
     "metadata": {
      "needs_background": "light"
     },
     "output_type": "display_data"
    }
   ],
   "source": [
    "# Reorder Planets\n",
    "df_planets = df_planets.sort_values('value', ascending=False)\n",
    "df_planets['i'] = df_planets.index % 5\n",
    "\n",
    "df_planets = df_planets.sort_values('i')\n",
    "df_planets[['value']].plot.bar()\n"
   ]
  },
  {
   "cell_type": "code",
   "execution_count": 18,
   "metadata": {},
   "outputs": [],
   "source": [
    "# Calc sizes\n",
    "plMin = 500000\n",
    "plMax  = 25000000\n",
    "phMin = df_planets['value'].min()\n",
    "phMax = df_planets['value'].max()\n",
    "plDist = plMax - plMin\n",
    "phDist = phMax - phMin\n",
    "\n",
    "planets = []\n",
    "\n",
    "n = len(df_planets)\n",
    "for i, row in df_planets.iterrows():\n",
    "    \n",
    "    y = math.floor(math.floor((i + 1) / (n / universe_circles))) * (universe_r / universe_circles) + (universe_r / universe_circles) / 2\n",
    "    #h = y <= (universe_r / 2) ? y : universe_r - y\n",
    "    h = y if y <= (universe_r / 2) else universe_r - y\n",
    "\n",
    "    r_new = math.sqrt(abs(2 * universe_r * h - math.pow(h, 2)))\n",
    "\n",
    "    items = n / universe_circles\n",
    "\n",
    "    step = math.pi * 2 / items\n",
    "    angle = (i % items) * step\n",
    "    x = r_new * math.cos(angle)\n",
    "    z = r_new * math.sin(angle)\n",
    "    \n",
    "    x = round(x)\n",
    "    y = round(y)\n",
    "    z = round(z)\n",
    "    \n",
    "    df_planets.loc[i, 'x'] = x\n",
    "    df_planets.loc[i, 'y'] = y\n",
    "    df_planets.loc[i, 'z'] = z\n",
    "    \n",
    "    # Calc Size\n",
    "    prozPh = 100 / phDist * row['value']\n",
    "    size = round(plDist / 100 * prozPh + plMin)\n",
    "    df_planets.loc[i, 'size'] = size\n",
    "    \n",
    "    planets.append({\n",
    "        'x': x,\n",
    "        'y': y,\n",
    "        'z': z,\n",
    "        'id': row['pha_id'],\n",
    "        'name': row['pha_name'],\n",
    "        'value': row['value'],\n",
    "        'size': size\n",
    "    })"
   ]
  },
  {
   "cell_type": "markdown",
   "metadata": {},
   "source": [
    "## Download Asteroids"
   ]
  },
  {
   "cell_type": "code",
   "execution_count": 19,
   "metadata": {},
   "outputs": [],
   "source": [
    "df_asteroids = pd.read_sql(\"\"\"\n",
    "   SELECT \n",
    "     tra_fk_recipient as recipient,\n",
    "     tra_fk_pharma as pharma,\n",
    "     sum(tra_value) as value\n",
    "     FROM \n",
    "       transaction\n",
    "     GROUP BY tra_fk_recipient, tra_fk_pharma;\n",
    "\"\"\", con=db_connection)"
   ]
  },
  {
   "cell_type": "code",
   "execution_count": 20,
   "metadata": {},
   "outputs": [
    {
     "data": {
      "text/plain": [
       "34517"
      ]
     },
     "execution_count": 20,
     "metadata": {},
     "output_type": "execute_result"
    }
   ],
   "source": [
    "len(df_asteroids)"
   ]
  },
  {
   "cell_type": "code",
   "execution_count": 93,
   "metadata": {},
   "outputs": [],
   "source": [
    "asteroids = []\n",
    "\n",
    "for rec in df_asteroids.recipient.unique():\n",
    "    df = df_asteroids[df_asteroids.recipient == rec]\n",
    "    \n",
    "    x = 0\n",
    "    y = 0\n",
    "    z = 0\n",
    "    d = 0\n",
    "    \n",
    "    \n",
    "    if len(df) == 1:\n",
    "        # Its a Moon: Single Giver\n",
    "        plan = df_planets[df_planets.pha_id == df.iloc[0]['pharma']].iloc[0]\n",
    "        size = plan['size'] * 8\n",
    "        \n",
    "        angle_s = random.uniform(0,math.pi * 2)\n",
    "        angle_t = random.uniform(0,math.pi)    \n",
    "        \n",
    "        x = plan['x'] + size * math.cos(angle_s) * math.sin(angle_t)\n",
    "        y = plan['y'] + size * math.sin(angle_s) * math.sin(angle_t)\n",
    "        z = plan['z'] + size * math.cos(angle_t)\n",
    "\n",
    "        d = df.iloc[0]['value']\n",
    "\n",
    "        astertyp = 'moon'\n",
    "        \n",
    "    else:\n",
    "        # Its an asteroid: More than one Giver\n",
    "\n",
    "        for pha, row in df.iterrows():\n",
    "            plan = df_planets[df_planets.pha_id == row['pharma']].iloc[0]\n",
    "            x += (row['value'] * plan['x'])\n",
    "            y += (row['value'] * plan['y'])\n",
    "            z += (row['value'] * plan['z'])\n",
    "            d = d + row['value']\n",
    "            astertyp = 'asteroid'\n",
    "        \n",
    "        x = x / d\n",
    "        y = y / d\n",
    "        z = z / d\n",
    "    \n",
    "    asteroids.append({\n",
    "        'id': int(rec),\n",
    "        'value': df['value'].sum(),\n",
    "        'x': round(x),\n",
    "        'y': round(y),\n",
    "        'z': round(z),\n",
    "        'type': astertyp\n",
    "    })"
   ]
  },
  {
   "cell_type": "code",
   "execution_count": 94,
   "metadata": {},
   "outputs": [
    {
     "data": {
      "text/plain": [
       "15991"
      ]
     },
     "execution_count": 94,
     "metadata": {},
     "output_type": "execute_result"
    }
   ],
   "source": [
    "len(asteroids)"
   ]
  },
  {
   "cell_type": "markdown",
   "metadata": {},
   "source": [
    "## Save file"
   ]
  },
  {
   "cell_type": "code",
   "execution_count": 95,
   "metadata": {},
   "outputs": [],
   "source": [
    "with open(Path('../../client/src/data.js'), 'w') as f:\n",
    "    f.write('exports.planets = %s\\n\\nexports.asteroids = %s\\n\\nexports.solarsystem_r = %s' % (json.dumps(planets), json.dumps(asteroids), universe_r))\n",
    "    #f.write('exports.planets = %s\\n\\nexports.solarsystem_r = %s' % (json.dumps(planets), universe_r))"
   ]
  },
  {
   "cell_type": "code",
   "execution_count": null,
   "metadata": {},
   "outputs": [],
   "source": []
  }
 ],
 "metadata": {
  "kernelspec": {
   "display_name": "pharmagelder",
   "language": "python",
   "name": "pharmagelder"
  },
  "language_info": {
   "codemirror_mode": {
    "name": "ipython",
    "version": 3
   },
   "file_extension": ".py",
   "mimetype": "text/x-python",
   "name": "python",
   "nbconvert_exporter": "python",
   "pygments_lexer": "ipython3",
   "version": "3.8.6"
  }
 },
 "nbformat": 4,
 "nbformat_minor": 4
}
