{
 "cells": [
  {
   "cell_type": "markdown",
   "metadata": {},
   "source": [
    "# Export universe\n",
    "* Export from Database\n",
    "* Calculate x, y and z position"
   ]
  },
  {
   "cell_type": "code",
   "execution_count": 3,
   "metadata": {},
   "outputs": [],
   "source": [
    "import pandas as pd\n",
    "import mysql.connector\n",
    "from pathlib import Path\n",
    "import math\n",
    "import random\n",
    "import json"
   ]
  },
  {
   "cell_type": "markdown",
   "metadata": {},
   "source": [
    "## Define the Unvierse"
   ]
  },
  {
   "cell_type": "code",
   "execution_count": 4,
   "metadata": {},
   "outputs": [],
   "source": [
    "universe_r = 1050000000\n",
    "#universe_r = 10000\n",
    "universe_circles = 12"
   ]
  },
  {
   "cell_type": "markdown",
   "metadata": {},
   "source": [
    "## Connect to Database"
   ]
  },
  {
   "cell_type": "code",
   "execution_count": 5,
   "metadata": {},
   "outputs": [],
   "source": [
    "db_connection = mysql.connector.connect(\n",
    "    host=\"localhost\",\n",
    "    user=\"root\",\n",
    "    passwd=\"\",\n",
    "    database = \"pharmagelder\"\n",
    ")"
   ]
  },
  {
   "cell_type": "markdown",
   "metadata": {},
   "source": [
    "## Download Planets"
   ]
  },
  {
   "cell_type": "code",
   "execution_count": 6,
   "metadata": {},
   "outputs": [
    {
     "name": "stderr",
     "output_type": "stream",
     "text": [
      "C:\\Users\\simon\\AppData\\Local\\Temp\\ipykernel_6980\\2802756452.py:1: UserWarning: pandas only supports SQLAlchemy connectable (engine/connection) or database string URI or sqlite3 DBAPI2 connection. Other DBAPI2 objects are not tested. Please consider using SQLAlchemy.\n",
      "  df_planets = pd.read_sql(\"\"\"\n"
     ]
    }
   ],
   "source": [
    "df_planets = pd.read_sql(\"\"\"\n",
    "    SELECT\n",
    "      pha_id,\n",
    "      pha_name,\n",
    "      sum(value) as value\n",
    "    FROM view_transaction_union\n",
    "    LEFT JOIN pharma ON fk_pharma = pha_id\n",
    "    GROUP BY fk_pharma;\n",
    "\"\"\", con=db_connection)"
   ]
  },
  {
   "cell_type": "code",
   "execution_count": 7,
   "metadata": {},
   "outputs": [
    {
     "name": "stderr",
     "output_type": "stream",
     "text": [
      "C:\\Users\\simon\\AppData\\Local\\Temp\\ipykernel_6980\\1540873862.py:1: UserWarning: pandas only supports SQLAlchemy connectable (engine/connection) or database string URI or sqlite3 DBAPI2 connection. Other DBAPI2 objects are not tested. Please consider using SQLAlchemy.\n",
      "  df_planets_count = pd.read_sql(\"\"\"\n"
     ]
    }
   ],
   "source": [
    "df_planets_count = pd.read_sql(\"\"\"\n",
    "    SELECT\n",
    "      count(rec_id) as recipientcount,\n",
    "      tra_fk_pharma as pha_id\n",
    "    FROM recipient\n",
    "    LEFT JOIN transaction ON rec_id = tra_fk_recipient\n",
    "    GROUP BY tra_fk_pharma;\n",
    "\"\"\", con=db_connection)"
   ]
  },
  {
   "cell_type": "code",
   "execution_count": 8,
   "metadata": {},
   "outputs": [],
   "source": [
    "df_planets['value'] = round(df_planets['value'])\n",
    "\n",
    "# Merge\n",
    "df_planets = df_planets.merge(df_planets_count, on = 'pha_id')"
   ]
  },
  {
   "cell_type": "code",
   "execution_count": 9,
   "metadata": {},
   "outputs": [
    {
     "data": {
      "text/plain": [
       "78"
      ]
     },
     "execution_count": 9,
     "metadata": {},
     "output_type": "execute_result"
    }
   ],
   "source": [
    "len(df_planets)"
   ]
  },
  {
   "cell_type": "code",
   "execution_count": 11,
   "metadata": {},
   "outputs": [
    {
     "data": {
      "text/plain": [
       "<Axes: >"
      ]
     },
     "execution_count": 11,
     "metadata": {},
     "output_type": "execute_result"
    },
    {
     "data": {
      "image/png": "[encoded data removed]",
      "text/plain": [
       "<Figure size 640x480 with 1 Axes>"
      ]
     },
     "metadata": {},
     "output_type": "display_data"
    }
   ],
   "source": [
    "# Reorder Planets\n",
    "df_planets = df_planets.sort_values('value', ascending=False)\n",
    "df_planets['i'] = df_planets.index % 5\n",
    "\n",
    "df_planets = df_planets.sort_values('i')\n",
    "df_planets[['value']].plot.bar()\n"
   ]
  },
  {
   "cell_type": "code",
   "execution_count": 12,
   "metadata": {},
   "outputs": [],
   "source": [
    "fr2m = round(25000000 / df_planets['value'].max(), 3)"
   ]
  },
  {
   "cell_type": "code",
   "execution_count": 13,
   "metadata": {},
   "outputs": [
    {
     "data": {
      "text/plain": [
       "25082911.704"
      ]
     },
     "execution_count": 13,
     "metadata": {},
     "output_type": "execute_result"
    }
   ],
   "source": [
    "fr2m * df_planets['value'].max()"
   ]
  },
  {
   "cell_type": "code",
   "execution_count": 14,
   "metadata": {},
   "outputs": [],
   "source": [
    "# Calc sizes\n",
    "plMin = 500000\n",
    "plMax  = 25000000\n",
    "phMin = df_planets['value'].min()\n",
    "phMax = df_planets['value'].max()\n",
    "plDist = plMax - plMin\n",
    "phDist = phMax - phMin\n",
    "\n",
    "planets = []\n",
    "\n",
    "n = len(df_planets)\n",
    "for i, row in df_planets.iterrows():\n",
    "    \n",
    "    y = math.floor(math.floor((i + 1) / (n / universe_circles))) * (universe_r / universe_circles) + (universe_r / universe_circles) / 2\n",
    "    #h = y <= (universe_r / 2) ? y : universe_r - y\n",
    "    h = y if y <= (universe_r / 2) else universe_r - y\n",
    "\n",
    "    r_new = math.sqrt(abs(2 * universe_r * h - math.pow(h, 2)))\n",
    "\n",
    "    items = n / universe_circles\n",
    "\n",
    "    step = math.pi * 2 / items\n",
    "    angle = (i % items) * step\n",
    "    x = r_new * math.cos(angle)\n",
    "    z = r_new * math.sin(angle)\n",
    "    \n",
    "    x = round(x)\n",
    "    y = round(y)\n",
    "    z = round(z)\n",
    "    \n",
    "    df_planets.loc[i, 'x'] = x\n",
    "    df_planets.loc[i, 'y'] = y\n",
    "    df_planets.loc[i, 'z'] = z\n",
    "    \n",
    "    # Calc Size\n",
    "    prozPh = 100 / phDist * row['value']\n",
    "    size = round(plDist / 100 * prozPh + plMin)\n",
    "    size = round(row['value'] * fr2m) + 500000 #test\n",
    "    df_planets.loc[i, 'size'] = size\n",
    "    \n",
    "    planets.append({\n",
    "        'id': row['pha_id'],\n",
    "        'x': x,\n",
    "        'y': y,\n",
    "        'z': z,\n",
    "        'name': row['pha_name'],\n",
    "        'value': row['value'],\n",
    "        'recipients': row['recipientcount'],\n",
    "        'size': size\n",
    "    })"
   ]
  },
  {
   "cell_type": "markdown",
   "metadata": {},
   "source": [
    "## Download Asteroids"
   ]
  },
  {
   "cell_type": "code",
   "execution_count": 15,
   "metadata": {},
   "outputs": [
    {
     "name": "stderr",
     "output_type": "stream",
     "text": [
      "C:\\Users\\simon\\AppData\\Local\\Temp\\ipykernel_6980\\2780119256.py:1: UserWarning: pandas only supports SQLAlchemy connectable (engine/connection) or database string URI or sqlite3 DBAPI2 connection. Other DBAPI2 objects are not tested. Please consider using SQLAlchemy.\n",
      "  df_asteroids = pd.read_sql(\"\"\"\n"
     ]
    }
   ],
   "source": [
    "df_asteroids = pd.read_sql(\"\"\"\n",
    "   SELECT \n",
    "     tra_fk_recipient as recipient,\n",
    "     tra_fk_pharma as pharma,\n",
    "     sum(tra_value) as value,\n",
    "     rec_name as name,\n",
    "     rec_type as type\n",
    "     FROM \n",
    "       transaction\n",
    "     LEFT JOIN recipient ON rec_id = tra_fk_recipient\n",
    "     GROUP BY tra_fk_recipient, tra_fk_pharma;\n",
    "\"\"\", con=db_connection)"
   ]
  },
  {
   "cell_type": "code",
   "execution_count": 16,
   "metadata": {},
   "outputs": [],
   "source": [
    "df_asteroids = df_asteroids[df_asteroids.value > 0]"
   ]
  },
  {
   "cell_type": "code",
   "execution_count": 17,
   "metadata": {},
   "outputs": [
    {
     "data": {
      "text/plain": [
       "41987"
      ]
     },
     "execution_count": 17,
     "metadata": {},
     "output_type": "execute_result"
    }
   ],
   "source": [
    "len(df_asteroids)"
   ]
  },
  {
   "cell_type": "code",
   "execution_count": 18,
   "metadata": {},
   "outputs": [],
   "source": [
    "asteroids = []\n",
    "\n",
    "for rec in df_asteroids.recipient.unique():\n",
    "    df = df_asteroids[df_asteroids.recipient == rec]\n",
    "    \n",
    "    x = 0\n",
    "    y = 0\n",
    "    z = 0\n",
    "    d = 0\n",
    "    \n",
    "    \n",
    "    if len(df) == 1:\n",
    "        # Its a Moon: Single Giver\n",
    "        plan = df_planets[df_planets.pha_id == df.iloc[0]['pharma']].iloc[0]\n",
    "        size = plan['size'] * 8\n",
    "        \n",
    "        angle_s = random.uniform(0,math.pi * 2)\n",
    "        angle_t = random.uniform(0,math.pi)    \n",
    "        \n",
    "        x = plan['x'] + size * math.cos(angle_s) * math.sin(angle_t)\n",
    "        y = plan['y'] + size * math.sin(angle_s) * math.sin(angle_t)\n",
    "        z = plan['z'] + size * math.cos(angle_t)\n",
    "\n",
    "        d = df.iloc[0]['value']\n",
    "\n",
    "        astertyp = 'moon'\n",
    "        \n",
    "    else:\n",
    "        # Its an asteroid: More than one Giver\n",
    "\n",
    "        for pha, row in df.iterrows():\n",
    "            plan = df_planets[df_planets.pha_id == row['pharma']].iloc[0]\n",
    "            x += (row['value'] * plan['x'])\n",
    "            y += (row['value'] * plan['y'])\n",
    "            z += (row['value'] * plan['z'])\n",
    "            d = d + row['value']\n",
    "            astertyp = 'asteroid'\n",
    "        \n",
    "        x = x / d\n",
    "        y = y / d\n",
    "        z = z / d\n",
    "        \n",
    "    # Calc Size\n",
    "    prozPh = 100 / phDist * df['value'].sum()\n",
    "    size = round(plDist / 100 * prozPh + plMin)\n",
    "    size = round(df['value'].sum() * fr2m * 2) + 500000 #test\n",
    "    \n",
    "    # Get Name. Shorten it if HCP\n",
    "    name = df.iloc[0]['name']\n",
    "    \"\"\"\n",
    "    if df.iloc[0]['type'] == 'hcp':\n",
    "        sp = name.split()\n",
    "        name = \"%s. %s\" % (sp[0][0], sp[-1])\n",
    "    \"\"\"\n",
    "        \n",
    "        \n",
    "    # Calc connection size\n",
    "    \"\"\"\n",
    "    vSum = df['value'].sum()\n",
    "    aFrom = []\n",
    "    for i, row in df.iterrows():\n",
    "        aFrom.append({\n",
    "            'id': row['pharma'],\n",
    "            'v': round(100 / vSum * row['value'])\n",
    "        })\n",
    "    \"\"\"\n",
    "    \n",
    "    # Add Pharmaids\n",
    "    \n",
    "    asteroids.append({\n",
    "        'id': int(rec),\n",
    "        'name': name,\n",
    "        'value': df['value'].sum(),\n",
    "        'x': round(x),\n",
    "        'y': round(y),\n",
    "        'z': round(z),\n",
    "        'size': size,\n",
    "        'from': list(df['pharma']),\n",
    "        'type': astertyp,\n",
    "    })"
   ]
  },
  {
   "cell_type": "code",
   "execution_count": 19,
   "metadata": {},
   "outputs": [
    {
     "data": {
      "text/plain": [
       "18624"
      ]
     },
     "execution_count": 19,
     "metadata": {},
     "output_type": "execute_result"
    }
   ],
   "source": [
    "len(asteroids)"
   ]
  },
  {
   "cell_type": "markdown",
   "metadata": {},
   "source": [
    "## Save file"
   ]
  },
  {
   "cell_type": "code",
   "execution_count": 20,
   "metadata": {},
   "outputs": [],
   "source": [
    "master = {\n",
    "    'planets': planets,\n",
    "    'asteroids': asteroids,\n",
    "    'solarsystem_r': universe_r\n",
    "}"
   ]
  },
  {
   "cell_type": "code",
   "execution_count": 21,
   "metadata": {},
   "outputs": [],
   "source": [
    "# as JSON\n",
    "with open(Path('../../client/public/data.json'), 'w') as f:\n",
    "    f.write(json.dumps(master))"
   ]
  },
  {
   "cell_type": "code",
   "execution_count": 153,
   "metadata": {},
   "outputs": [],
   "source": [
    "\"\"\"\n",
    "with open(Path('../../client/src/data.js'), 'w') as f:\n",
    "    f.write('exports.planets = %s\\n\\nexports.asteroids = %s\\n\\nexports.solarsystem_r = %s' % (json.dumps(planets), json.dumps(asteroids), universe_r))\n",
    "    #f.write('exports.planets = %s\\n\\nexports.solarsystem_r = %s' % (json.dumps(planets), universe_r))\n",
    "\"\"\""
   ]
  },
  {
   "cell_type": "markdown",
   "metadata": {},
   "source": [
    "### Nothing"
   ]
  },
  {
   "cell_type": "code",
   "execution_count": 71,
   "metadata": {},
   "outputs": [
    {
     "data": {
      "text/plain": [
       "500000"
      ]
     },
     "execution_count": 71,
     "metadata": {},
     "output_type": "execute_result"
    }
   ],
   "source": [
    "x = pd.DataFrame(asteroids)\n",
    "x['size'].min()"
   ]
  },
  {
   "cell_type": "code",
   "execution_count": 73,
   "metadata": {},
   "outputs": [
    {
     "data": {
      "text/plain": [
       "25565424"
      ]
     },
     "execution_count": 73,
     "metadata": {},
     "output_type": "execute_result"
    }
   ],
   "source": [
    "x['size'].max()"
   ]
  },
  {
   "cell_type": "code",
   "execution_count": 72,
   "metadata": {},
   "outputs": [
    {
     "data": {
      "text/plain": [
       "500797"
      ]
     },
     "execution_count": 72,
     "metadata": {},
     "output_type": "execute_result"
    }
   ],
   "source": [
    "x = pd.DataFrame(planets)\n",
    "x['size'].min()"
   ]
  },
  {
   "cell_type": "code",
   "execution_count": 28,
   "metadata": {},
   "outputs": [
    {
     "data": {
      "text/plain": [
       "63310383.65"
      ]
     },
     "execution_count": 28,
     "metadata": {},
     "output_type": "execute_result"
    }
   ],
   "source": [
    "df_asteroids.groupby('recipient').sum()['value'].max()"
   ]
  },
  {
   "cell_type": "code",
   "execution_count": 31,
   "metadata": {},
   "outputs": [
    {
     "data": {
      "text/plain": [
       "140816986.0"
      ]
     },
     "execution_count": 31,
     "metadata": {},
     "output_type": "execute_result"
    }
   ],
   "source": [
    "df_planets['value'].max()"
   ]
  },
  {
   "cell_type": "code",
   "execution_count": null,
   "metadata": {},
   "outputs": [],
   "source": []
  }
 ],
 "metadata": {
  "kernelspec": {
   "display_name": "env",
   "language": "python",
   "name": "python3"
  },
  "language_info": {
   "codemirror_mode": {
    "name": "ipython",
    "version": 3
   },
   "file_extension": ".py",
   "mimetype": "text/x-python",
   "name": "python",
   "nbconvert_exporter": "python",
   "pygments_lexer": "ipython3",
   "version": "3.10.8"
  }
 },
 "nbformat": 4,
 "nbformat_minor": 4
}
