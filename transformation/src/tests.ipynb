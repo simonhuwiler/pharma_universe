{
 "cells": [
  {
   "cell_type": "markdown",
   "metadata": {},
   "source": [
    "# Tests\n",
    "https://towardsdatascience.com/how-to-visualize-interactive-3d-network-with-python-plotly-4ef6989d83cc"
   ]
  },
  {
   "cell_type": "code",
   "execution_count": 36,
   "metadata": {},
   "outputs": [],
   "source": [
    "from igraph import *\n",
    "import pandas as pd\n",
    "import mysql.connector\n",
    "from pathlib import Path"
   ]
  },
  {
   "cell_type": "code",
   "execution_count": 9,
   "metadata": {},
   "outputs": [],
   "source": [
    "db_connection = mysql.connector.connect(\n",
    "    host=\"localhost\",\n",
    "    user=\"root\",\n",
    "    passwd=\"\",\n",
    "    database = \"pharmagelder\"\n",
    ")"
   ]
  },
  {
   "cell_type": "code",
   "execution_count": 39,
   "metadata": {},
   "outputs": [],
   "source": [
    "df_transactions = pd.read_sql(\"\"\"SELECT\n",
    "  rec_id as target,\n",
    "  tra_fk_pharma as source,\n",
    "  rec_name as name,\n",
    "  sum(tra_value) as weight\n",
    " FROM transaction\n",
    "  LEFT JOIN transaction_category ON tra_fk_transaction_category = transaction_category.trc_id\n",
    "  LEFT JOIN recipient ON tra_fk_recipient = recipient.rec_id\n",
    "  GROUP BY tra_fk_recipient, tra_fk_pharma\n",
    "  ORDER BY rec_name DESC\"\"\", con=db_connection)"
   ]
  },
  {
   "cell_type": "code",
   "execution_count": 40,
   "metadata": {},
   "outputs": [],
   "source": [
    "# Update IDs\n",
    "df_transactions['source'] = df_transactions['source'].apply(lambda x: x + 1000000)"
   ]
  },
  {
   "cell_type": "code",
   "execution_count": 41,
   "metadata": {},
   "outputs": [],
   "source": [
    "df_recipients = pd.read_sql(\"\"\"SELECT\n",
    "  rec_id as id,\n",
    "  rec_name as name\n",
    " FROM recipient\"\"\", con=db_connection)\n",
    "\n",
    "df_pharma = pd.read_sql(\"\"\"SELECT\n",
    "  pha_id as id,\n",
    "  pha_name as name\n",
    " FROM pharma\"\"\", con=db_connection)\n",
    "\n",
    "df_pharma['id'] = df_pharma['id'].apply(lambda x: x + 1000000)\n",
    "\n",
    "df_nodes = pd.concat([df_recipients, df_pharma])"
   ]
  },
  {
   "cell_type": "code",
   "execution_count": 43,
   "metadata": {},
   "outputs": [],
   "source": [
    "df_transactions.to_csv(Path('../export/edges.csv'), index=False)\n",
    "df_nodes.to_csv(Path('../export/nodes.csv'), index=False)"
   ]
  },
  {
   "cell_type": "code",
   "execution_count": 35,
   "metadata": {},
   "outputs": [
    {
     "data": {
      "text/html": [
       "<div>\n",
       "<style scoped>\n",
       "    .dataframe tbody tr th:only-of-type {\n",
       "        vertical-align: middle;\n",
       "    }\n",
       "\n",
       "    .dataframe tbody tr th {\n",
       "        vertical-align: top;\n",
       "    }\n",
       "\n",
       "    .dataframe thead th {\n",
       "        text-align: right;\n",
       "    }\n",
       "</style>\n",
       "<table border=\"1\" class=\"dataframe\">\n",
       "  <thead>\n",
       "    <tr style=\"text-align: right;\">\n",
       "      <th></th>\n",
       "      <th>id</th>\n",
       "      <th>name</th>\n",
       "    </tr>\n",
       "  </thead>\n",
       "  <tbody>\n",
       "    <tr>\n",
       "      <th>0</th>\n",
       "      <td>8512</td>\n",
       "      <td>1. Schweizer Fachtag neuro.psycho.geriatrie</td>\n",
       "    </tr>\n",
       "    <tr>\n",
       "      <th>1</th>\n",
       "      <td>8513</td>\n",
       "      <td>19. Journées Franco-Suisse</td>\n",
       "    </tr>\n",
       "    <tr>\n",
       "      <th>2</th>\n",
       "      <td>12772</td>\n",
       "      <td>2. Zürcher Brustkrebs Symposium 1. 11.2018 Org...</td>\n",
       "    </tr>\n",
       "    <tr>\n",
       "      <th>3</th>\n",
       "      <td>8514</td>\n",
       "      <td>20. Ostschweizer Symposium für praktische Gynä...</td>\n",
       "    </tr>\n",
       "    <tr>\n",
       "      <th>4</th>\n",
       "      <td>8515</td>\n",
       "      <td>360 GmbH</td>\n",
       "    </tr>\n",
       "  </tbody>\n",
       "</table>\n",
       "</div>"
      ],
      "text/plain": [
       "      id                                               name\n",
       "0   8512        1. Schweizer Fachtag neuro.psycho.geriatrie\n",
       "1   8513                         19. Journées Franco-Suisse\n",
       "2  12772  2. Zürcher Brustkrebs Symposium 1. 11.2018 Org...\n",
       "3   8514  20. Ostschweizer Symposium für praktische Gynä...\n",
       "4   8515                                           360 GmbH"
      ]
     },
     "execution_count": 35,
     "metadata": {},
     "output_type": "execute_result"
    }
   ],
   "source": [
    "df_nodes.head()"
   ]
  },
  {
   "cell_type": "code",
   "execution_count": null,
   "metadata": {},
   "outputs": [],
   "source": [
    "df_pharmas = pd.read_sql(\"SELECT \")"
   ]
  },
  {
   "cell_type": "code",
   "execution_count": 30,
   "metadata": {},
   "outputs": [
    {
     "data": {
      "text/html": [
       "<div>\n",
       "<style scoped>\n",
       "    .dataframe tbody tr th:only-of-type {\n",
       "        vertical-align: middle;\n",
       "    }\n",
       "\n",
       "    .dataframe tbody tr th {\n",
       "        vertical-align: top;\n",
       "    }\n",
       "\n",
       "    .dataframe thead th {\n",
       "        text-align: right;\n",
       "    }\n",
       "</style>\n",
       "<table border=\"1\" class=\"dataframe\">\n",
       "  <thead>\n",
       "    <tr style=\"text-align: right;\">\n",
       "      <th></th>\n",
       "      <th>id</th>\n",
       "      <th>pharma</th>\n",
       "      <th>name</th>\n",
       "      <th>value</th>\n",
       "    </tr>\n",
       "  </thead>\n",
       "  <tbody>\n",
       "    <tr>\n",
       "      <th>0</th>\n",
       "      <td>14265</td>\n",
       "      <td>1000034</td>\n",
       "      <td>Zwisler Christoph</td>\n",
       "      <td>1070.35</td>\n",
       "    </tr>\n",
       "    <tr>\n",
       "      <th>1</th>\n",
       "      <td>8428</td>\n",
       "      <td>1000037</td>\n",
       "      <td>Zuzana Tatickova</td>\n",
       "      <td>426.41</td>\n",
       "    </tr>\n",
       "    <tr>\n",
       "      <th>2</th>\n",
       "      <td>10520</td>\n",
       "      <td>1000050</td>\n",
       "      <td>Zurich Academy of Internal Medicine (ZAIM)</td>\n",
       "      <td>16400.00</td>\n",
       "    </tr>\n",
       "    <tr>\n",
       "      <th>3</th>\n",
       "      <td>10520</td>\n",
       "      <td>1000045</td>\n",
       "      <td>Zurich Academy of Internal Medicine (ZAIM)</td>\n",
       "      <td>30135.00</td>\n",
       "    </tr>\n",
       "    <tr>\n",
       "      <th>4</th>\n",
       "      <td>10520</td>\n",
       "      <td>1000019</td>\n",
       "      <td>Zurich Academy of Internal Medicine (ZAIM)</td>\n",
       "      <td>14070.00</td>\n",
       "    </tr>\n",
       "  </tbody>\n",
       "</table>\n",
       "</div>"
      ],
      "text/plain": [
       "      id   pharma                                        name     value\n",
       "0  14265  1000034                           Zwisler Christoph   1070.35\n",
       "1   8428  1000037                            Zuzana Tatickova    426.41\n",
       "2  10520  1000050  Zurich Academy of Internal Medicine (ZAIM)  16400.00\n",
       "3  10520  1000045  Zurich Academy of Internal Medicine (ZAIM)  30135.00\n",
       "4  10520  1000019  Zurich Academy of Internal Medicine (ZAIM)  14070.00"
      ]
     },
     "execution_count": 30,
     "metadata": {},
     "output_type": "execute_result"
    }
   ],
   "source": [
    "\n",
    "df_transactions.head()"
   ]
  },
  {
   "cell_type": "code",
   "execution_count": 4,
   "metadata": {},
   "outputs": [],
   "source": [
    "g = Graph()"
   ]
  },
  {
   "cell_type": "code",
   "execution_count": 5,
   "metadata": {},
   "outputs": [],
   "source": [
    "g.add_vertices(3)\n",
    "g.add_edges([(0,1), (1,2)])"
   ]
  },
  {
   "cell_type": "code",
   "execution_count": null,
   "metadata": {},
   "outputs": [],
   "source": []
  }
 ],
 "metadata": {
  "kernelspec": {
   "display_name": "pharmauniverse",
   "language": "python",
   "name": "pharmauniverse"
  },
  "language_info": {
   "codemirror_mode": {
    "name": "ipython",
    "version": 3
   },
   "file_extension": ".py",
   "mimetype": "text/x-python",
   "name": "python",
   "nbconvert_exporter": "python",
   "pygments_lexer": "ipython3",
   "version": "3.9.0"
  }
 },
 "nbformat": 4,
 "nbformat_minor": 4
}
